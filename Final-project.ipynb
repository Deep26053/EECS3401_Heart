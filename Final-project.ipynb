{
 "cells": [
  {
   "cell_type": "markdown",
   "metadata": {},
   "source": [
    "# **EECS 3401 Final Project: Understanding Heart Disease Risk**\n",
    "### Group Members: Deep Patel, Yukta Bhutani, Abdul Wasay Faizan\n",
    "#### Original Dataset Source: [link](https://www.kaggle.com/datasets/kamilpytlak/personal-key-indicators-of-heart-disease?select=2022)\n",
    "#### Modified Dataset Source: [link](https://github.com/Deep26053/EECS3401_Heart/blob/main/heart_2022_with_nans.csv)\n",
    "### Project Description: \n",
    "Predict the likelihood of heart disease based on demographic and health-related variables using the Heart Disease dataset.\n",
    "\n",
    "### Attributes for the heart disease dataset:\n",
    "\n",
    "1. Age: Age of the respondent.\n",
    "2. Gender: Gender of the respondent.\n",
    "3. Race: Race of the respondent.\n",
    "4. HighBloodPressure: Presence of high blood pressure (binary: \"Yes\" or \"No\").\n",
    "5. HighCholesterol: Presence of high cholesterol (binary: \"Yes\" or \"No\").\n",
    "6. SmokingStatus: Smoking status of the respondent.\n",
    "7. DiabetesStatus: Diabetes status of the respondent.\n",
    "8. Obesity: Obesity status of the respondent (measured by BMI).\n",
    "9. PhysicalActivity: Level of physical activity.\n",
    "10. AlcoholConsumption: Level of alcohol consumption.\n",
    "11. OtherMedicalConditions: Presence of other medical conditions.\n",
    "12. FamilyHistory: Family history of heart disease (binary: \"Yes\" or \"No\").\n",
    "13. MedicationUsage: Usage of medications for heart disease or related conditions.\n",
    "14. StressLevel: Level of stress reported by the respondent.\n",
    "15. Diet: Dietary habits of the respondent.\n",
    "16. ExerciseRoutine: Regularity of exercise routines.\n",
    "17. SleepQuality: Quality of sleep reported by the respondent.\n",
    "18. SocioeconomicStatus: Socioeconomic status of the respondent.\n",
    "19. EducationLevel: Level of education attained by the respondent.\n",
    "20. AccessToHealthcare: Access to healthcare facilities and services.\n",
    "21. GeographicLocation: Geographic location of the respondent.\n",
    "22. DateOfSurvey: Date when the survey was conducted.\n",
    "23. HadHeartAttack: Presence of heart disease (binary: \"Yes\" or \"No\")."
   ]
  },
  {
   "cell_type": "markdown",
   "metadata": {},
   "source": [
    "# 1. Frame the Problem:\n",
    "\n",
    "### Task: \n",
    "Predict the likelihood of heart disease based on demographic and health-related variables using the Heart Disease dataset.\n",
    "\n",
    "### Key Questions:\n",
    "1. What are the demographic and health-related variables associated with heart disease risk?\n",
    "2. How do factors such as age, gender, blood pressure, cholesterol levels, smoking status, diabetes status, obesity, physical activity, and alcohol consumption impact the likelihood of heart disease?\n",
    "3. What is the distribution of heart disease cases among different demographic groups?\n",
    "4. Can we identify patterns or correlations between variables and heart disease prevalence?\n",
    "5. Which machine learning algorithm provides the most accurate predictions for heart disease likelihood?\n",
    "\n",
    "- **Supervised Learning:** Since the dataset includes labelled data (e.g., presence or absence of heart disease), it is a supervised learning problem.\n",
    "- **Classification Task:** The objective is to predict whether an individual is at risk of heart disease (binary classification).\n",
    "- **Batch Learning:** The dataset represents a finite set of data collected at a specific time, making batch learning suitable for model training. There is no continuous flow of data coming into the system, and there is no need to adjust to changing data rapidly.\n",
    "This framing of the problem provides clarity on the type of learning approach, the nature of the prediction task, and the appropriate learning technique to use for developing the heart disease prediction model.\n",
    "\n",
    "\n",
    "# Look at the Big Picture:\n",
    "The model's output (prediction of an individual's likelihood of heart disease) will be used as one of many signals in a broader healthcare system. This downstream system will aid healthcare professionals in making informed decisions regarding patient care, such as recommending preventive measures, lifestyle modifications, or medical interventions.\n",
    "\n",
    "## Key Analyses:\n",
    "- **Distribution of Heart Disease Risk Factors:**\n",
    "Explored the prevalence and distribution of heart disease risk factors including blood pressure, cholesterol levels, smoking status, diabetes status, obesity, physical activity levels, and alcohol consumption to identify common patterns and variations.\n",
    "- **Impact of Demographic Factors on Heart Disease Risk:**\n",
    "Investigated the relationship between demographic factors (age, gender, ethnicity) and heart disease prevalence to identify any significant associations or disparities.\n",
    "- **Correlation between Risk Factors and Heart Disease:**\n",
    "Identified correlations between variables such as blood pressure, cholesterol levels, smoking status, and heart disease to understand their impact on heart disease risk.\n",
    "- **Feature Importance Analysis:**\n",
    "This analysis can provide insights into which demographic and health-related factors have the greatest impact on heart disease risk.\n",
    "\n",
    "### Impact: \n",
    "By accurately predicting the likelihood of heart disease, the model can contribute to reducing the burden of cardiovascular disease, improving patient outcomes, and reducing healthcare costs associated with preventable heart-related complications.\n"
   ]
  },
  {
   "cell_type": "code",
   "execution_count": null,
   "metadata": {},
   "outputs": [],
   "source": []
  }
 ],
 "metadata": {
  "language_info": {
   "name": "python"
  }
 },
 "nbformat": 4,
 "nbformat_minor": 2
}
