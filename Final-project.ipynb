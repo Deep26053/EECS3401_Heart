{
 "cells": [
  {
   "cell_type": "markdown",
   "metadata": {},
   "source": [
    "#**EECS 3401 Final Project:Understanding Heart Disease Risk: Demographic and Health Factors Analysis**\n",
    "<br>\n",
    "*Group Members: Deep Patel, Yukta Bhutani, Abdul Wasay Faizan*\n",
    "\n",
    "###Project Description: \n",
    "Predict the likelihood of heart disease based on demographic and health-related variables using the Heart Disease dataset.\n"
   ]
  },
  {
   "cell_type": "markdown",
   "metadata": {},
   "source": [
    "#1. Frame the Problem:\n",
    "\n",
    "###Task: \n",
    "Predict the likelihood of heart disease based on demographic and health-related variables using the Heart Disease dataset.\n",
    "\n",
    "###Key Questions:\n",
    "1. What are the demographic and health-related variables associated with heart disease risk?\n",
    "2. How do factors such as age, gender, blood pressure, cholesterol levels, smoking status, diabetes status, obesity, physical activity, and alcohol consumption impact the likelihood of heart disease?\n",
    "3. What is the distribution of heart disease cases among different demographic groups?\n",
    "4. Can we identify patterns or correlations between variables and heart disease prevalence?\n",
    "5. Which machine learning algorithm provides the most accurate predictions for heart disease likelihood?\n",
    "\n",
    "- **Supervised Learning:** Since the dataset includes labelled data (e.g., presence or absence of heart disease), it is a supervised learning problem.\n",
    "- **Classification Task:** The objective is to predict whether an individual is at risk of heart disease (binary classification).\n",
    "- **Batch Learning:** The dataset represents a finite set of data collected at a specific time, making batch learning suitable for model training. There is no continuous flow of data coming into the system, and there is no need to adjust to changing data rapidly.\n",
    "This framing of the problem provides clarity on the type of learning approach, the nature of the prediction task, and the appropriate learning technique to use for developing the heart disease prediction model.\n",
    "\n",
    "\n",
    "#Look at the Big Picture:\n",
    "The model's output (prediction of an individual's likelihood of heart disease) will be used as one of many signals in a broader healthcare system. This downstream system will aid healthcare professionals in making informed decisions regarding patient care, such as recommending preventive measures, lifestyle modifications, or medical interventions.\n",
    "\n",
    "##Key Analyses:\n",
    "- **Distribution of Heart Disease Risk Factors:**\n",
    "Explored the prevalence and distribution of heart disease risk factors including blood pressure, cholesterol levels, smoking status, diabetes status, obesity, physical activity levels, and alcohol consumption to identify common patterns and variations.\n",
    "- **Impact of Demographic Factors on Heart Disease Risk:**\n",
    "Investigated the relationship between demographic factors (age, gender, ethnicity) and heart disease prevalence to identify any significant associations or disparities.\n",
    "- **Correlation between Risk Factors and Heart Disease:**\n",
    "Identified correlations between variables such as blood pressure, cholesterol levels, smoking status, and heart disease to understand their impact on heart disease risk.\n",
    "- **Feature Importance Analysis:**\n",
    "This analysis can provide insights into which demographic and health-related factors have the greatest impact on heart disease risk.\n",
    "\n",
    "###Impact: \n",
    "By accurately predicting the likelihood of heart disease, the model can contribute to reducing the burden of cardiovascular disease, improving patient outcomes, and reducing healthcare costs associated with preventable heart-related complications.\n"
   ]
  },
  {
   "cell_type": "code",
   "execution_count": null,
   "metadata": {},
   "outputs": [],
   "source": []
  }
 ],
 "metadata": {
  "language_info": {
   "name": "python"
  }
 },
 "nbformat": 4,
 "nbformat_minor": 2
}
